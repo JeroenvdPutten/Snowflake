{
 "metadata": {
  "kernelspec": {
   "display_name": "Streamlit Notebook",
   "name": "streamlit"
  },
  "lastEditStatus": {
   "notebookId": "xnebei4tdicag3lkyexz",
   "authorId": "1988650560933",
   "authorName": "JVDP",
   "authorEmail": "jeroen.vanderputten@hotmail.com",
   "sessionId": "bc8218c3-d87a-4e5b-981a-55b391c80977",
   "lastEditTime": 1759910237812
  }
 },
 "nbformat_minor": 5,
 "nbformat": 4,
 "cells": [
  {
   "cell_type": "code",
   "id": "3775908f-ca36-4846-8f38-5adca39217f2",
   "metadata": {
    "language": "python",
    "name": "cell1"
   },
   "source": "from snowflake.snowpark.session import Session\nfrom snowflake.snowpark.context import get_active_session\nfrom snowflake.snowpark.functions import month,year,col,sum\nfrom snowflake.snowpark.version import VERSION\nfrom snowflake.core import Root\nfrom snowflake.core.task import Task, StoredProcedureCall\nfrom snowflake.core.task.dagv1 import DAG, DAGTask, DAGOperation\nfrom snowflake.core import CreateMode\n\n# Misc\nfrom datetime import timedelta\nimport json\nimport logging \nlogger = logging.getLogger(\"snowflake.snowpark.session\")\nlogger.setLevel(logging.ERROR)\n\nsession = get_active_session()\n# Add a query tag to the session. This helps with monitoring and troubleshooting.\nsession.query_tag = {\"origin\":\"sf_sit-is\", \n                     \"name\":\"aiml_notebooks_ad_spend_roi\", \n                     \"version\":{\"major\":1, \"minor\":0},\n                     \"attributes\":{\"is_quickstart\":1, \"source\":\"notebook\"}}\n",
   "execution_count": null,
   "outputs": []
  },
  {
   "cell_type": "code",
   "id": "8d50cbf4-0c8d-4950-86cb-114990437ac9",
   "metadata": {
    "language": "python",
    "name": "cell2"
   },
   "source": "snow_df_spend = session.sql(\n\"\"\"\n    SELECT *\n    FROM CAMPAIGN_SPEND\n\"\"\")\nsnow_df_spend.limit(10).collect()",
   "execution_count": null,
   "outputs": []
  },
  {
   "cell_type": "code",
   "id": "c695373e-ac74-4b62-a1f1-08206cbd5c81",
   "metadata": {
    "language": "python",
    "name": "cell3"
   },
   "source": "# Stats per Month per Channel\nsnow_df_spend_per_channel = session.sql(\n\"\"\"\n    SELECT \n        YEAR(DATE) AS YEAR,\n        MONTH(DATE) AS MONTH,\n        CHANNEL,\n        SUM(TOTAL_COST) AS TOTAL_COST\n    FROM CAMPAIGN_SPEND\n    GROUP BY YEAR(DATE), MONTH(DATE), CHANNEL\n    ORDER BY YEAR, MONTH\n\"\"\")\n\nsnow_df_spend_per_channel.limit(10).collect()",
   "execution_count": null,
   "outputs": []
  },
  {
   "cell_type": "code",
   "id": "2b11c532-5d1a-47c5-9922-41c3e604da41",
   "metadata": {
    "language": "python",
    "name": "cell6"
   },
   "outputs": [],
   "source": "snow_df_spend_per_month = snow_df_spend_per_channel \\\n    .pivot('CHANNEL') \\\n    .sum('TOTAL_COST') \\\n    .sort('YEAR','MONTH')\n\nsnow_df_spend_per_month = snow_df_spend_per_month.select(\n    col(\"YEAR\"),\n    col(\"MONTH\"),\n    col(\"'search_engine'\").as_(\"SEARCH_ENGINE\"),\n    col(\"'social_media'\").as_(\"SOCIAL_MEDIA\"),\n    col(\"'video'\").as_(\"VIDEO\"),\n    col(\"'email'\").as_(\"EMAIL\")\n)\n\nsnow_df_spend_per_month.limit(10).collect()",
   "execution_count": null
  },
  {
   "cell_type": "code",
   "id": "cca5dead-0e0e-4514-a2b3-9150ebe5f4ff",
   "metadata": {
    "language": "sql",
    "name": "cell5"
   },
   "outputs": [],
   "source": "",
   "execution_count": null
  },
  {
   "cell_type": "code",
   "id": "589232a0-e628-4ac0-bf4d-46c5760df5a4",
   "metadata": {
    "language": "sql",
    "name": "cell7"
   },
   "outputs": [],
   "source": "",
   "execution_count": null
  },
  {
   "cell_type": "code",
   "id": "fd016b36-8d89-4e55-ad6a-da9e2ef60968",
   "metadata": {
    "language": "sql",
    "name": "cell8"
   },
   "outputs": [],
   "source": "",
   "execution_count": null
  },
  {
   "cell_type": "code",
   "id": "4e2be1d5-3766-4f1e-9ead-ad165ed430e9",
   "metadata": {
    "language": "sql",
    "name": "cell9"
   },
   "outputs": [],
   "source": "",
   "execution_count": null
  }
 ]
}