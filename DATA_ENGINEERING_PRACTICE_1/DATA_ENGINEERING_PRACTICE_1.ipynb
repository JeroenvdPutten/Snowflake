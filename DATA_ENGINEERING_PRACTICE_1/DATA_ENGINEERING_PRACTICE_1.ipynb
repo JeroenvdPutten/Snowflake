{
 "metadata": {
  "kernelspec": {
   "display_name": "Streamlit Notebook",
   "name": "streamlit"
  },
  "lastEditStatus": {
   "notebookId": "xnebei4tdicag3lkyexz",
   "authorId": "1988650560933",
   "authorName": "JVDP",
   "authorEmail": "jeroen.vanderputten@hotmail.com",
   "sessionId": "bcb57070-8815-4a7a-9bac-d7c41b93a44d",
   "lastEditTime": 1759849234088
  }
 },
 "nbformat_minor": 5,
 "nbformat": 4,
 "cells": [
  {
   "cell_type": "code",
   "id": "3775908f-ca36-4846-8f38-5adca39217f2",
   "metadata": {
    "language": "python",
    "name": "cell1"
   },
   "source": "from snowflake.snowpark.session import Session\nfrom snowflake.snowpark.context import get_active_session\nfrom snowflake.snowpark.functions import month,year,col,sum\nfrom snowflake.snowpark.version import VERSION\nfrom snowflake.core import Root\nfrom snowflake.core.task import Task, StoredProcedureCall\nfrom snowflake.core.task.dagv1 import DAG, DAGTask, DAGOperation\nfrom snowflake.core import CreateMode\n\n# Misc\nfrom datetime import timedelta\nimport json\nimport logging \nlogger = logging.getLogger(\"snowflake.snowpark.session\")\nlogger.setLevel(logging.ERROR)\n\nsession = get_active_session()\n# Add a query tag to the session. This helps with monitoring and troubleshooting.\nsession.query_tag = {\"origin\":\"sf_sit-is\", \n                     \"name\":\"aiml_notebooks_ad_spend_roi\", \n                     \"version\":{\"major\":1, \"minor\":0},\n                     \"attributes\":{\"is_quickstart\":1, \"source\":\"notebook\"}}\n",
   "execution_count": null,
   "outputs": []
  },
  {
   "cell_type": "code",
   "id": "8d50cbf4-0c8d-4950-86cb-114990437ac9",
   "metadata": {
    "language": "python",
    "name": "cell2"
   },
   "source": "snow_df_spend = session.sql(\n\"\"\"\n    SELECT *\n    FROM CAMPAIGN_SPEND\n\"\"\")\nsnow_df_spend.limit(10).collect()",
   "execution_count": null,
   "outputs": []
  },
  {
   "cell_type": "code",
   "id": "71db5e4f-16e1-4889-adc0-adb0e059b52b",
   "metadata": {
    "language": "python",
    "name": "cell4"
   },
   "outputs": [],
   "source": "snow_df_spend_per_channel = session.sql(\n\"\"\"\n    SELECT\n        \n    FROM CAMPAIGN_SPEND\n\"\"\")",
   "execution_count": null
  },
  {
   "cell_type": "code",
   "id": "c695373e-ac74-4b62-a1f1-08206cbd5c81",
   "metadata": {
    "language": "python",
    "name": "cell3"
   },
   "source": "# Stats per Month per Channel\nsnow_df_spend_per_channel = session.sql(\n\"\"\"\n    SELECT \n        YEAR(DATE) AS YEAR,\n        MONTH(DATE) AS MONTH,\n        CHANNEL,\n        SUM(TOTAL_COST) AS TOTAL_COST\n    FROM CAMPAIGN_SPEND\n    GROUP BY YEAR(DATE), MONTH(DATE), CHANNEL\n    ORDER BY YEAR, MONTH\n\"\"\")\n\nsnow_df_spend_per_channel.limit(10).collect()",
   "execution_count": null,
   "outputs": []
  }
 ]
}